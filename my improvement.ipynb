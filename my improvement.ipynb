{
 "cells": [
  {
   "cell_type": "code",
   "execution_count": 64,
   "id": "12bf7120",
   "metadata": {
    "execution": {
     "iopub.execute_input": "2024-02-25T09:32:00.425452Z",
     "iopub.status.busy": "2024-02-25T09:32:00.424454Z",
     "iopub.status.idle": "2024-02-25T09:32:34.096091Z",
     "shell.execute_reply": "2024-02-25T09:32:34.094871Z"
    },
    "papermill": {
     "duration": 33.681918,
     "end_time": "2024-02-25T09:32:34.099228",
     "exception": false,
     "start_time": "2024-02-25T09:32:00.417310",
     "status": "completed"
    },
    "tags": []
   },
   "outputs": [],
   "source": [
    "import pandas as pd\n",
    "import numpy as np\n",
    "import tensorflow as tf\n",
    "import matplotlib.pyplot as plt\n",
    "%matplotlib inline\n",
    "import numpy as np\n",
    "import torch\n",
    "from tqdm import tqdm\n",
    "from concurrent.futures import ThreadPoolExecutor, as_completed\n",
    "import seaborn as sns\n",
    "sns.set_theme()\n",
    "from nltk.tokenize import PunktSentenceTokenizer\n",
    "from gensim.models import Word2Vec\n",
    "from sklearn.model_selection import KFold\n",
    "from sklearn.metrics import cohen_kappa_score\n",
    "import tensorflow as tf\n",
    "from tensorflow.keras.layers import Bidirectional, GRU, Dense, Dropout\n",
    "from tensorflow.keras.models import Sequential\n",
    "import re\n",
    "import numpy as np\n",
    "import nltk\n",
    "from nltk.corpus import stopwords\n",
    "from nltk.stem import WordNetLemmatizer, PorterStemmer\n",
    "from transformers import BertTokenizer, BertModel\n",
    "import torch\n",
    "\n",
    "# import my_utils\n",
    "# from my_utils import essay_to_wordlist, essay_to_sentences, makeFeatureVec, getAvgFeatureVecs, get_model"
   ]
  },
  {
   "cell_type": "code",
   "execution_count": 76,
   "id": "2b5bc22e",
   "metadata": {
    "_cell_guid": "b1076dfc-b9ad-4769-8c92-a6c4dae69d19",
    "_uuid": "8f2839f25d086af736a60e9eeb907d3b93b6e0e5",
    "execution": {
     "iopub.execute_input": "2024-02-25T09:31:39.850978Z",
     "iopub.status.busy": "2024-02-25T09:31:39.849928Z",
     "iopub.status.idle": "2024-02-25T09:32:00.408707Z",
     "shell.execute_reply": "2024-02-25T09:32:00.407730Z"
    },
    "papermill": {
     "duration": 20.569625,
     "end_time": "2024-02-25T09:32:00.411528",
     "exception": false,
     "start_time": "2024-02-25T09:31:39.841903",
     "status": "completed"
    },
    "tags": []
   },
   "outputs": [
    {
     "name": "stderr",
     "output_type": "stream",
     "text": [
      "[nltk_data] Downloading package stopwords to C:\\Users\\SEBEOGO Landry\n",
      "[nltk_data]     Yves\\AppData\\Roaming\\nltk_data...\n",
      "[nltk_data]   Package stopwords is already up-to-date!\n",
      "[nltk_data] Downloading package punkt to C:\\Users\\SEBEOGO Landry\n",
      "[nltk_data]     Yves\\AppData\\Roaming\\nltk_data...\n",
      "[nltk_data]   Package punkt is already up-to-date!\n",
      "[nltk_data] Downloading package wordnet to C:\\Users\\SEBEOGO Landry\n",
      "[nltk_data]     Yves\\AppData\\Roaming\\nltk_data...\n",
      "[nltk_data]   Package wordnet is already up-to-date!\n"
     ]
    }
   ],
   "source": [
    "nltk.download('stopwords')\n",
    "nltk.download('punkt')\n",
    "nltk.download('wordnet')\n",
    "\n",
    "# Charger le tokenizer et le modèle\n",
    "tokenizer = BertTokenizer.from_pretrained('bert-base-uncased')\n",
    "model = BertModel.from_pretrained('bert-base-uncased')\n",
    "\n",
    "lemmatizer = WordNetLemmatizer()\n",
    "stemmer = PorterStemmer()\n",
    "\n",
    "def clean_essays(essay_v, remove_stopwords):\n",
    "    \n",
    "    #Remove the tagged labels and word tokenize the sentence.\n",
    "    essay_v = re.sub(\"[^a-zA-Z]\", \" \", essay_v)\n",
    "    \n",
    "    # Convertir en minuscules\n",
    "    words = essay_v.lower()\n",
    "    \n",
    "    # Supprimer les espaces supplémentaires\n",
    "    words = re.sub(r'\\s+', ' ',words).strip()\n",
    "    \n",
    "    # Tokenize the words C'est a dire en liste de mots solitaires\n",
    "    words = words.split()\n",
    "    \n",
    "    # Supprimer les stopwords\n",
    "    if remove_stopwords:\n",
    "        stops = set(stopwords.words(\"english\"))\n",
    "        words = [w for w in words if w not in stops]\n",
    "        words = [lemmatizer.lemmatize(w) for w in words ]\n",
    "    return (words)\n",
    "\n",
    "def get_bert_embedding(words):\n",
    "    # Tokenisation et création des tenseurs\n",
    "    inputs = tokenizer(words, return_tensors='pt', truncation=True, padding=True, max_length=512)\n",
    "\n",
    "    # Obtenir les embeddings\n",
    "    outputs = model(**inputs)\n",
    "    embeddings = outputs.last_hidden_state\n",
    "    return embeddings\n",
    "\n",
    "\n",
    "\n",
    "def get_bert_embeddings(text):\n",
    "    # Tokenize the text and truncate to a maximum length of 512 tokens\n",
    "    input_ids = tokenizer.encode(text, max_length=512, truncation=True, return_tensors='pt')\n",
    "    attention_mask = (input_ids != 0).float()\n",
    "\n",
    "    # Get the output from the BERT model\n",
    "    with torch.no_grad():\n",
    "        output = model(input_ids, attention_mask=attention_mask)[0]\n",
    "\n",
    "    # Average the token representations to get a representation of the text\n",
    "    return output.mean(dim=1).squeeze().detach().numpy()\n",
    "    \n",
    "# Convertir les tenseurs en tableaux NumPy et prendre la moyenne sur la dimension des séquences\n",
    "def get_avg_embeddings(embeddings):\n",
    "    avg_embeddings = []\n",
    "    for emb in embeddings:\n",
    "        # Convertir le tenseur en NumPy et en float32\n",
    "        emb_np = emb.numpy().astype(np.float32)\n",
    "        # Prendre la moyenne sur la dimension des séquences (axis=1)\n",
    "        avg_emb = np.mean(emb_np, axis=1)\n",
    "        avg_embeddings.append(avg_emb)\n",
    "    return np.array(avg_embeddings, dtype=np.float32)\n",
    "\n",
    "\n",
    "def getFeatureVecs(essays, num_features=768):\n",
    "    \"\"\"Main function to generate the word vectors for Bert model.\"\"\"\n",
    "    features_matrix = np.zeros((len(essays), num_features), dtype=\"float32\")\n",
    "    for counter, essay in enumerate(essays):\n",
    "        features_matrix[counter] = essay\n",
    "    return features_matrix\n",
    "\n",
    "\n",
    "def get_model():\n",
    "    \"\"\"Define the model.\"\"\"\n",
    "    model = Sequential()\n",
    "    model.add(Bidirectional(GRU(768, dropout=0.4, recurrent_dropout=0, return_sequences=True), input_shape=(1, 768)))\n",
    "    model.add(Bidirectional(GRU(64, recurrent_dropout=0)))\n",
    "    model.add(Dropout(0.3))\n",
    "    model.add(Dense(1, activation='relu'))\n",
    "\n",
    "    model.compile(loss='mean_squared_error', optimizer='rmsprop', metrics=['mae'])\n",
    "    model.summary()\n",
    "\n",
    "    return model\n"
   ]
  },
  {
   "cell_type": "code",
   "execution_count": 68,
   "id": "9b3442de",
   "metadata": {
    "execution": {
     "iopub.execute_input": "2024-02-25T09:32:34.156597Z",
     "iopub.status.busy": "2024-02-25T09:32:34.156129Z",
     "iopub.status.idle": "2024-02-25T09:32:34.557739Z",
     "shell.execute_reply": "2024-02-25T09:32:34.556434Z"
    },
    "papermill": {
     "duration": 0.411826,
     "end_time": "2024-02-25T09:32:34.560666",
     "exception": false,
     "start_time": "2024-02-25T09:32:34.148840",
     "status": "completed"
    },
    "tags": []
   },
   "outputs": [],
   "source": [
    "df = pd.read_csv(r'C:\\Users\\SEBEOGO Landry Yves\\Desktop\\My folders\\Freelance\\essay score prediction\\training_set_rel3.tsv', delimiter='\\t', encoding='ISO-8859-1',\n",
    "  )"
   ]
  },
  {
   "cell_type": "code",
   "execution_count": 69,
   "id": "19b1b035",
   "metadata": {},
   "outputs": [
    {
     "data": {
      "text/plain": [
       "(768,)"
      ]
     },
     "execution_count": 69,
     "metadata": {},
     "output_type": "execute_result"
    }
   ],
   "source": [
    "get_bert_embeddings(clean_essays(df[\"essay\"][0],True)).shape"
   ]
  },
  {
   "cell_type": "code",
   "execution_count": 70,
   "id": "1b4b084d",
   "metadata": {},
   "outputs": [
    {
     "data": {
      "text/plain": [
       "(768,)"
      ]
     },
     "execution_count": 70,
     "metadata": {},
     "output_type": "execute_result"
    }
   ],
   "source": [
    "get_bert_embeddings(clean_essays(df[\"essay\"][1],True)).shape"
   ]
  },
  {
   "cell_type": "code",
   "execution_count": 71,
   "id": "86236764",
   "metadata": {},
   "outputs": [
    {
     "name": "stdout",
     "output_type": "stream",
     "text": [
      "essay_id              0\n",
      "essay_set             0\n",
      "essay                 0\n",
      "rater1_domain1        0\n",
      "rater2_domain1        0\n",
      "rater3_domain1    12848\n",
      "domain1_score         0\n",
      "rater1_domain2    11176\n",
      "rater2_domain2    11176\n",
      "domain2_score     11176\n",
      "rater1_trait1     10684\n",
      "rater1_trait2     10684\n",
      "rater1_trait3     10684\n",
      "rater1_trait4     10684\n",
      "rater1_trait5     12253\n",
      "rater1_trait6     12253\n",
      "rater2_trait1     10684\n",
      "rater2_trait2     10684\n",
      "rater2_trait3     10684\n",
      "rater2_trait4     10684\n",
      "rater2_trait5     12253\n",
      "rater2_trait6     12253\n",
      "rater3_trait1     12848\n",
      "rater3_trait2     12848\n",
      "rater3_trait3     12848\n",
      "rater3_trait4     12848\n",
      "rater3_trait5     12848\n",
      "rater3_trait6     12848\n",
      "dtype: int64\n"
     ]
    }
   ],
   "source": [
    "# Check total missing values\n",
    "print(df.isnull().sum())"
   ]
  },
  {
   "cell_type": "code",
   "execution_count": 72,
   "id": "8f48078c",
   "metadata": {},
   "outputs": [],
   "source": [
    "X=df[\"essay\"]\n",
    "y=df[\"domain1_score\"]"
   ]
  },
  {
   "cell_type": "code",
   "execution_count": 73,
   "id": "6e7c3313",
   "metadata": {
    "execution": {
     "iopub.execute_input": "2024-02-25T09:32:34.607604Z",
     "iopub.status.busy": "2024-02-25T09:32:34.607130Z",
     "iopub.status.idle": "2024-02-25T09:32:34.616187Z",
     "shell.execute_reply": "2024-02-25T09:32:34.614933Z"
    },
    "papermill": {
     "duration": 0.018783,
     "end_time": "2024-02-25T09:32:34.618594",
     "exception": false,
     "start_time": "2024-02-25T09:32:34.599811",
     "status": "completed"
    },
    "tags": []
   },
   "outputs": [
    {
     "data": {
      "text/plain": [
       "0    Dear local newspaper, I think effects computer...\n",
       "1    Dear @CAPS1 @CAPS2, I believe that using compu...\n",
       "2    Dear, @CAPS1 @CAPS2 @CAPS3 More and more peopl...\n",
       "3    Dear Local Newspaper, @CAPS1 I have found that...\n",
       "4    Dear @LOCATION1, I know having computers has a...\n",
       "Name: essay, dtype: object"
      ]
     },
     "execution_count": 73,
     "metadata": {},
     "output_type": "execute_result"
    }
   ],
   "source": [
    "X.head()"
   ]
  },
  {
   "cell_type": "code",
   "execution_count": 74,
   "id": "9bf17d9a",
   "metadata": {
    "execution": {
     "iopub.execute_input": "2024-02-25T09:32:34.632984Z",
     "iopub.status.busy": "2024-02-25T09:32:34.632545Z",
     "iopub.status.idle": "2024-02-25T09:32:34.640910Z",
     "shell.execute_reply": "2024-02-25T09:32:34.639449Z"
    },
    "papermill": {
     "duration": 0.018677,
     "end_time": "2024-02-25T09:32:34.643442",
     "exception": false,
     "start_time": "2024-02-25T09:32:34.624765",
     "status": "completed"
    },
    "tags": []
   },
   "outputs": [
    {
     "data": {
      "text/plain": [
       "12971    35\n",
       "12972    32\n",
       "12973    40\n",
       "12974    40\n",
       "12975    40\n",
       "Name: domain1_score, dtype: int64"
      ]
     },
     "execution_count": 74,
     "metadata": {},
     "output_type": "execute_result"
    }
   ],
   "source": [
    "y.tail()"
   ]
  },
  {
   "cell_type": "markdown",
   "id": "d8965d3f",
   "metadata": {
    "papermill": {
     "duration": 0.006064,
     "end_time": "2024-02-25T09:32:34.656287",
     "exception": false,
     "start_time": "2024-02-25T09:32:34.650223",
     "status": "completed"
    },
    "tags": []
   },
   "source": [
    "# 5-Fold Cross Validation Training"
   ]
  },
  {
   "cell_type": "code",
   "execution_count": 77,
   "id": "9d7d0bd8",
   "metadata": {
    "execution": {
     "iopub.execute_input": "2024-02-25T09:32:34.671145Z",
     "iopub.status.busy": "2024-02-25T09:32:34.670699Z",
     "iopub.status.idle": "2024-02-25T09:39:58.508003Z",
     "shell.execute_reply": "2024-02-25T09:39:58.506292Z"
    },
    "papermill": {
     "duration": 443.848772,
     "end_time": "2024-02-25T09:39:58.511337",
     "exception": false,
     "start_time": "2024-02-25T09:32:34.662565",
     "status": "completed"
    },
    "tags": []
   },
   "outputs": [
    {
     "data": {
      "text/html": [
       "<pre style=\"white-space:pre;overflow-x:auto;line-height:normal;font-family:Menlo,'DejaVu Sans Mono',consolas,'Courier New',monospace\"><span style=\"font-weight: bold\">Model: \"sequential_11\"</span>\n",
       "</pre>\n"
      ],
      "text/plain": [
       "\u001b[1mModel: \"sequential_11\"\u001b[0m\n"
      ]
     },
     "metadata": {},
     "output_type": "display_data"
    },
    {
     "data": {
      "text/html": [
       "<pre style=\"white-space:pre;overflow-x:auto;line-height:normal;font-family:Menlo,'DejaVu Sans Mono',consolas,'Courier New',monospace\">┏━━━━━━━━━━━━━━━━━━━━━━━━━━━━━━━━━┳━━━━━━━━━━━━━━━━━━━━━━━━┳━━━━━━━━━━━━━━━┓\n",
       "┃<span style=\"font-weight: bold\"> Layer (type)                    </span>┃<span style=\"font-weight: bold\"> Output Shape           </span>┃<span style=\"font-weight: bold\">       Param # </span>┃\n",
       "┡━━━━━━━━━━━━━━━━━━━━━━━━━━━━━━━━━╇━━━━━━━━━━━━━━━━━━━━━━━━╇━━━━━━━━━━━━━━━┩\n",
       "│ bidirectional_20                │ (<span style=\"color: #00d7ff; text-decoration-color: #00d7ff\">None</span>, <span style=\"color: #00af00; text-decoration-color: #00af00\">1</span>, <span style=\"color: #00af00; text-decoration-color: #00af00\">1536</span>)        │     <span style=\"color: #00af00; text-decoration-color: #00af00\">7,087,104</span> │\n",
       "│ (<span style=\"color: #0087ff; text-decoration-color: #0087ff\">Bidirectional</span>)                 │                        │               │\n",
       "├─────────────────────────────────┼────────────────────────┼───────────────┤\n",
       "│ bidirectional_21                │ (<span style=\"color: #00d7ff; text-decoration-color: #00d7ff\">None</span>, <span style=\"color: #00af00; text-decoration-color: #00af00\">128</span>)            │       <span style=\"color: #00af00; text-decoration-color: #00af00\">615,168</span> │\n",
       "│ (<span style=\"color: #0087ff; text-decoration-color: #0087ff\">Bidirectional</span>)                 │                        │               │\n",
       "├─────────────────────────────────┼────────────────────────┼───────────────┤\n",
       "│ dropout_9 (<span style=\"color: #0087ff; text-decoration-color: #0087ff\">Dropout</span>)             │ (<span style=\"color: #00d7ff; text-decoration-color: #00d7ff\">None</span>, <span style=\"color: #00af00; text-decoration-color: #00af00\">128</span>)            │             <span style=\"color: #00af00; text-decoration-color: #00af00\">0</span> │\n",
       "├─────────────────────────────────┼────────────────────────┼───────────────┤\n",
       "│ dense_9 (<span style=\"color: #0087ff; text-decoration-color: #0087ff\">Dense</span>)                 │ (<span style=\"color: #00d7ff; text-decoration-color: #00d7ff\">None</span>, <span style=\"color: #00af00; text-decoration-color: #00af00\">1</span>)              │           <span style=\"color: #00af00; text-decoration-color: #00af00\">129</span> │\n",
       "└─────────────────────────────────┴────────────────────────┴───────────────┘\n",
       "</pre>\n"
      ],
      "text/plain": [
       "┏━━━━━━━━━━━━━━━━━━━━━━━━━━━━━━━━━┳━━━━━━━━━━━━━━━━━━━━━━━━┳━━━━━━━━━━━━━━━┓\n",
       "┃\u001b[1m \u001b[0m\u001b[1mLayer (type)                   \u001b[0m\u001b[1m \u001b[0m┃\u001b[1m \u001b[0m\u001b[1mOutput Shape          \u001b[0m\u001b[1m \u001b[0m┃\u001b[1m \u001b[0m\u001b[1m      Param #\u001b[0m\u001b[1m \u001b[0m┃\n",
       "┡━━━━━━━━━━━━━━━━━━━━━━━━━━━━━━━━━╇━━━━━━━━━━━━━━━━━━━━━━━━╇━━━━━━━━━━━━━━━┩\n",
       "│ bidirectional_20                │ (\u001b[38;5;45mNone\u001b[0m, \u001b[38;5;34m1\u001b[0m, \u001b[38;5;34m1536\u001b[0m)        │     \u001b[38;5;34m7,087,104\u001b[0m │\n",
       "│ (\u001b[38;5;33mBidirectional\u001b[0m)                 │                        │               │\n",
       "├─────────────────────────────────┼────────────────────────┼───────────────┤\n",
       "│ bidirectional_21                │ (\u001b[38;5;45mNone\u001b[0m, \u001b[38;5;34m128\u001b[0m)            │       \u001b[38;5;34m615,168\u001b[0m │\n",
       "│ (\u001b[38;5;33mBidirectional\u001b[0m)                 │                        │               │\n",
       "├─────────────────────────────────┼────────────────────────┼───────────────┤\n",
       "│ dropout_9 (\u001b[38;5;33mDropout\u001b[0m)             │ (\u001b[38;5;45mNone\u001b[0m, \u001b[38;5;34m128\u001b[0m)            │             \u001b[38;5;34m0\u001b[0m │\n",
       "├─────────────────────────────────┼────────────────────────┼───────────────┤\n",
       "│ dense_9 (\u001b[38;5;33mDense\u001b[0m)                 │ (\u001b[38;5;45mNone\u001b[0m, \u001b[38;5;34m1\u001b[0m)              │           \u001b[38;5;34m129\u001b[0m │\n",
       "└─────────────────────────────────┴────────────────────────┴───────────────┘\n"
      ]
     },
     "metadata": {},
     "output_type": "display_data"
    },
    {
     "data": {
      "text/html": [
       "<pre style=\"white-space:pre;overflow-x:auto;line-height:normal;font-family:Menlo,'DejaVu Sans Mono',consolas,'Courier New',monospace\"><span style=\"font-weight: bold\"> Total params: </span><span style=\"color: #00af00; text-decoration-color: #00af00\">7,702,401</span> (29.38 MB)\n",
       "</pre>\n"
      ],
      "text/plain": [
       "\u001b[1m Total params: \u001b[0m\u001b[38;5;34m7,702,401\u001b[0m (29.38 MB)\n"
      ]
     },
     "metadata": {},
     "output_type": "display_data"
    },
    {
     "data": {
      "text/html": [
       "<pre style=\"white-space:pre;overflow-x:auto;line-height:normal;font-family:Menlo,'DejaVu Sans Mono',consolas,'Courier New',monospace\"><span style=\"font-weight: bold\"> Trainable params: </span><span style=\"color: #00af00; text-decoration-color: #00af00\">7,702,401</span> (29.38 MB)\n",
       "</pre>\n"
      ],
      "text/plain": [
       "\u001b[1m Trainable params: \u001b[0m\u001b[38;5;34m7,702,401\u001b[0m (29.38 MB)\n"
      ]
     },
     "metadata": {},
     "output_type": "display_data"
    },
    {
     "data": {
      "text/html": [
       "<pre style=\"white-space:pre;overflow-x:auto;line-height:normal;font-family:Menlo,'DejaVu Sans Mono',consolas,'Courier New',monospace\"><span style=\"font-weight: bold\"> Non-trainable params: </span><span style=\"color: #00af00; text-decoration-color: #00af00\">0</span> (0.00 B)\n",
       "</pre>\n"
      ],
      "text/plain": [
       "\u001b[1m Non-trainable params: \u001b[0m\u001b[38;5;34m0\u001b[0m (0.00 B)\n"
      ]
     },
     "metadata": {},
     "output_type": "display_data"
    },
    {
     "name": "stdout",
     "output_type": "stream",
     "text": [
      "\n",
      "--------Fold 1--------\n",
      "\n",
      "Making the embedding of the Data...\n"
     ]
    },
    {
     "name": "stderr",
     "output_type": "stream",
     "text": [
      "Processing Training Data: 100%|██████████| 6488/6488 [10:01<00:00, 10.78it/s]\n",
      "Processing Testing Data: 100%|██████████| 6488/6488 [10:10<00:00, 10.63it/s]"
     ]
    },
    {
     "name": "stdout",
     "output_type": "stream",
     "text": [
      "testDataVecs.shape:  (6488, 768)\n",
      "trainDataVecs.shape:  (6488, 768)\n",
      "testDataVecs.shape:  (6488, 1, 768)\n",
      "trainDataVecs.shape:  (6488, 1, 768)\n",
      "Finished embedding using Bert training\n",
      "\n",
      "Training the Sequential Model...\n",
      "Epoch 1/5\n"
     ]
    },
    {
     "name": "stderr",
     "output_type": "stream",
     "text": [
      "\n"
     ]
    },
    {
     "name": "stdout",
     "output_type": "stream",
     "text": [
      "\u001b[1m203/203\u001b[0m \u001b[32m━━━━━━━━━━━━━━━━━━━━\u001b[0m\u001b[37m\u001b[0m \u001b[1m8s\u001b[0m 23ms/step - loss: 44.9140 - mae: 3.6517\n",
      "Epoch 2/5\n",
      "\u001b[1m203/203\u001b[0m \u001b[32m━━━━━━━━━━━━━━━━━━━━\u001b[0m\u001b[37m\u001b[0m \u001b[1m5s\u001b[0m 23ms/step - loss: 12.0488 - mae: 1.8044\n",
      "Epoch 3/5\n",
      "\u001b[1m203/203\u001b[0m \u001b[32m━━━━━━━━━━━━━━━━━━━━\u001b[0m\u001b[37m\u001b[0m \u001b[1m5s\u001b[0m 23ms/step - loss: 6.8215 - mae: 1.4106\n",
      "Epoch 4/5\n",
      "\u001b[1m203/203\u001b[0m \u001b[32m━━━━━━━━━━━━━━━━━━━━\u001b[0m\u001b[37m\u001b[0m \u001b[1m5s\u001b[0m 23ms/step - loss: 5.0362 - mae: 1.2993\n",
      "Epoch 5/5\n",
      "\u001b[1m203/203\u001b[0m \u001b[32m━━━━━━━━━━━━━━━━━━━━\u001b[0m\u001b[37m\u001b[0m \u001b[1m5s\u001b[0m 23ms/step - loss: 5.4745 - mae: 1.3198\n",
      "\u001b[1m203/203\u001b[0m \u001b[32m━━━━━━━━━━━━━━━━━━━━\u001b[0m\u001b[37m\u001b[0m \u001b[1m1s\u001b[0m 5ms/step\n",
      "Kappa Score: 0.9738108087312917\n",
      "\n",
      "--------Fold 2--------\n",
      "\n",
      "Making the embedding of the Data...\n"
     ]
    },
    {
     "name": "stderr",
     "output_type": "stream",
     "text": [
      "Processing Training Data: 100%|██████████| 6488/6488 [10:10<00:00, 10.63it/s]\n",
      "Processing Testing Data: 100%|██████████| 6488/6488 [10:03<00:00, 10.76it/s]"
     ]
    },
    {
     "name": "stdout",
     "output_type": "stream",
     "text": [
      "testDataVecs.shape:  (6488, 768)\n",
      "trainDataVecs.shape:  (6488, 768)\n",
      "testDataVecs.shape:  (6488, 1, 768)\n",
      "trainDataVecs.shape:  (6488, 1, 768)\n",
      "Finished embedding using Bert training\n",
      "\n",
      "Training the Sequential Model...\n",
      "Epoch 1/5\n"
     ]
    },
    {
     "name": "stderr",
     "output_type": "stream",
     "text": [
      "\n"
     ]
    },
    {
     "name": "stdout",
     "output_type": "stream",
     "text": [
      "\u001b[1m203/203\u001b[0m \u001b[32m━━━━━━━━━━━━━━━━━━━━\u001b[0m\u001b[37m\u001b[0m \u001b[1m5s\u001b[0m 23ms/step - loss: 6.3377 - mae: 1.3773\n",
      "Epoch 2/5\n",
      "\u001b[1m203/203\u001b[0m \u001b[32m━━━━━━━━━━━━━━━━━━━━\u001b[0m\u001b[37m\u001b[0m \u001b[1m5s\u001b[0m 23ms/step - loss: 5.3821 - mae: 1.3261\n",
      "Epoch 3/5\n",
      "\u001b[1m203/203\u001b[0m \u001b[32m━━━━━━━━━━━━━━━━━━━━\u001b[0m\u001b[37m\u001b[0m \u001b[1m5s\u001b[0m 23ms/step - loss: 5.0249 - mae: 1.2467\n",
      "Epoch 4/5\n",
      "\u001b[1m203/203\u001b[0m \u001b[32m━━━━━━━━━━━━━━━━━━━━\u001b[0m\u001b[37m\u001b[0m \u001b[1m5s\u001b[0m 23ms/step - loss: 5.5627 - mae: 1.2826\n",
      "Epoch 5/5\n",
      "\u001b[1m203/203\u001b[0m \u001b[32m━━━━━━━━━━━━━━━━━━━━\u001b[0m\u001b[37m\u001b[0m \u001b[1m5s\u001b[0m 23ms/step - loss: 4.4904 - mae: 1.2153\n",
      "\u001b[1m203/203\u001b[0m \u001b[32m━━━━━━━━━━━━━━━━━━━━\u001b[0m\u001b[37m\u001b[0m \u001b[1m1s\u001b[0m 3ms/step\n",
      "Kappa Score: 0.9811030507715938\n",
      "Average Kappa score after a 5-fold cross validation:  0.9775\n"
     ]
    }
   ],
   "source": [
    "# 5-Fold Cross Validation Training\n",
    "cv = KFold(n_splits=2, shuffle=True)\n",
    "results = []\n",
    "y_pred_list = []\n",
    "\n",
    "clf_model = get_model()\n",
    "\n",
    "for count, (traincv, testcv) in enumerate(cv.split(X)):\n",
    "    print(\"\\n--------Fold {}--------\\n\".format(count + 1))\n",
    "    X_test, X_train, y_test, y_train = X.iloc[testcv], X.iloc[traincv], y.iloc[testcv], y.iloc[traincv]\n",
    "\n",
    "    print(\"Making the embedding of the Data...\")\n",
    "\n",
    "\n",
    "    # Initialize the progress bar for training data\n",
    "    Training_embeddings = []\n",
    "    for essay_v in tqdm(X_train, desc=\"Processing Training Data\"):\n",
    "        Training_embeddings.append(get_bert_embeddings(clean_essays(essay_v,True)))\n",
    "    trainDataVecs = getFeatureVecs(Training_embeddings, 768)\n",
    "\n",
    "    # Initialize the progress bar for testing data\n",
    "    Testing_embeddings = []\n",
    "    for essay_v in tqdm(X_test, desc=\"Processing Testing Data\"):\n",
    "        Testing_embeddings.append(get_bert_embeddings(clean_essays(essay_v,True)))\n",
    "    testDataVecs = getFeatureVecs(Testing_embeddings, 768)\n",
    "\n",
    "    \n",
    "    print(\"testDataVecs.shape: \", testDataVecs.shape)\n",
    "    print(\"trainDataVecs.shape: \", trainDataVecs.shape)\n",
    "    \n",
    "    trainDataVecs = np.expand_dims(trainDataVecs, axis=1)\n",
    "    testDataVecs = np.expand_dims(testDataVecs, axis=1)\n",
    "    print(\"testDataVecs.shape: \", testDataVecs.shape)\n",
    "    print(\"trainDataVecs.shape: \", trainDataVecs.shape)\n",
    "\n",
    "    print('Finished embedding using Bert training\\n')\n",
    "\n",
    "    print('Training the Sequential Model...')\n",
    "    clf_model.fit(trainDataVecs, y_train, batch_size=32, epochs=5)\n",
    "    y_pred = clf_model.predict(testDataVecs)\n",
    "\n",
    "    # Save any one of the 5 models.\n",
    "    if count + 1 == 5:\n",
    "        clf_model.save('./saved_model/aes_model_bert.h5')\n",
    "\n",
    "    # Round y_pred to the nearest integer.\n",
    "    y_pred = np.around(y_pred)\n",
    "\n",
    "    # Evaluate the model on the evaluation metric. \"Quadratic mean averaged Kappa\"\n",
    "    result = cohen_kappa_score(y_test.values, y_pred, weights='quadratic')\n",
    "    print(f\"Kappa Score: {result}\")\n",
    "    results.append(result)\n",
    "\n",
    "print(\"Average Kappa score after a 5-fold cross validation: \", np.around(np.array(results).mean(), decimals=4))"
   ]
  },
  {
   "cell_type": "code",
   "execution_count": 78,
   "id": "97c40776",
   "metadata": {
    "execution": {
     "iopub.execute_input": "2024-02-25T09:39:58.961392Z",
     "iopub.status.busy": "2024-02-25T09:39:58.960692Z",
     "iopub.status.idle": "2024-02-25T09:39:58.968502Z",
     "shell.execute_reply": "2024-02-25T09:39:58.966858Z"
    },
    "papermill": {
     "duration": 0.238827,
     "end_time": "2024-02-25T09:39:58.970898",
     "exception": false,
     "start_time": "2024-02-25T09:39:58.732071",
     "status": "completed"
    },
    "tags": []
   },
   "outputs": [
    {
     "name": "stdout",
     "output_type": "stream",
     "text": [
      "Average Kappa score after a 5-fold cross validation:  0.9775\n"
     ]
    }
   ],
   "source": [
    "print(\"Average Kappa score after a 5-fold cross validation: \",np.around(np.array(results).mean(),decimals=4))"
   ]
  },
  {
   "cell_type": "markdown",
   "id": "99bec9a9",
   "metadata": {
    "papermill": {
     "duration": 0.229759,
     "end_time": "2024-02-25T09:39:59.423164",
     "exception": false,
     "start_time": "2024-02-25T09:39:59.193405",
     "status": "completed"
    },
    "tags": []
   },
   "source": [
    "# Random Plot of Comparison (Manual Evaluated vs Model Predicted Scores)"
   ]
  },
  {
   "cell_type": "code",
   "execution_count": 79,
   "id": "bd0e0234",
   "metadata": {
    "execution": {
     "iopub.execute_input": "2024-02-25T09:39:59.869263Z",
     "iopub.status.busy": "2024-02-25T09:39:59.868170Z",
     "iopub.status.idle": "2024-02-25T09:39:59.877453Z",
     "shell.execute_reply": "2024-02-25T09:39:59.876002Z"
    },
    "papermill": {
     "duration": 0.235803,
     "end_time": "2024-02-25T09:39:59.880793",
     "exception": false,
     "start_time": "2024-02-25T09:39:59.644990",
     "status": "completed"
    },
    "tags": []
   },
   "outputs": [],
   "source": [
    "def plot():\n",
    "    y_test.reset_index(drop=True, inplace=True)\n",
    "    indices = np.random.choice(y_test.index, size=30)\n",
    "    test, pred = y_test[indices], y_pred.flatten().astype(int)[indices]\n",
    "    plt.figure(figsize=(20, 5))\n",
    "    plt.plot(range(30), test)\n",
    "    plt.plot(range(30), pred)\n",
    "    plt.xticks(range(30))\n",
    "    plt.legend(['Human Score', 'Predicted Score'])\n",
    "    plt.xlabel('Questions')\n",
    "    plt.ylabel('Marks')\n",
    "    plt.show()"
   ]
  },
  {
   "cell_type": "code",
   "execution_count": 81,
   "id": "99099371",
   "metadata": {
    "execution": {
     "iopub.execute_input": "2024-02-25T09:40:00.393137Z",
     "iopub.status.busy": "2024-02-25T09:40:00.392663Z",
     "iopub.status.idle": "2024-02-25T09:40:01.138468Z",
     "shell.execute_reply": "2024-02-25T09:40:01.136127Z"
    },
    "papermill": {
     "duration": 1.035208,
     "end_time": "2024-02-25T09:40:01.141877",
     "exception": false,
     "start_time": "2024-02-25T09:40:00.106669",
     "status": "completed"
    },
    "tags": []
   },
   "outputs": [
    {
     "data": {
      "image/png": "[encoded data removed]",
      "text/plain": [
       "<Figure size 2000x500 with 1 Axes>"
      ]
     },
     "metadata": {},
     "output_type": "display_data"
    }
   ],
   "source": [
    "plot()"
   ]
  }
 ],
 "metadata": {
  "kaggle": {
   "accelerator": "none",
   "dataSources": [
    {
     "datasetId": 476745,
     "sourceId": 892588,
     "sourceType": "datasetVersion"
    }
   ],
   "dockerImageVersionId": 30646,
   "isGpuEnabled": false,
   "isInternetEnabled": true,
   "language": "python",
   "sourceType": "notebook"
  },
  "kernelspec": {
   "display_name": "venv",
   "language": "python",
   "name": "python3"
  },
  "language_info": {
   "codemirror_mode": {
    "name": "ipython",
    "version": 3
   },
   "file_extension": ".py",
   "mimetype": "text/x-python",
   "name": "python",
   "nbconvert_exporter": "python",
   "pygments_lexer": "ipython3",
   "version": "3.11.8"
  },
  "papermill": {
   "default_parameters": {},
   "duration": 507.97445,
   "end_time": "2024-02-25T09:40:03.997427",
   "environment_variables": {},
   "exception": null,
   "input_path": "__notebook__.ipynb",
   "output_path": "__notebook__.ipynb",
   "parameters": {},
   "start_time": "2024-02-25T09:31:36.022977",
   "version": "2.5.0"
  }
 },
 "nbformat": 4,
 "nbformat_minor": 5
}
